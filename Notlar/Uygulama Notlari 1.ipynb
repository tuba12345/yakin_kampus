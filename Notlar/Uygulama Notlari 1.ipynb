{
 "cells": [
  {
   "cell_type": "markdown",
   "metadata": {},
   "source": [
    "# VIRTUAL ENVIRONMENT"
   ]
  },
  {
   "cell_type": "code",
   "execution_count": null,
   "metadata": {},
   "outputs": [],
   "source": [
    "# Bütün komutlar terminal ekranindan calisiyor\n",
    "# Virtual Env Olusturma\n",
    "virtualenv yakin_kampus\n",
    "\n",
    "# Virtual Env Aktivasyon\n",
    "source yakin_kampus/bin/activate\n",
    "\n",
    "# Hangi paketlerin kurulu oldugunu gormek icin\n",
    "pip freeze\n",
    "\n",
    "# Herhangi bir paket install etmek icin\n",
    "pip install pandas\n",
    "\n",
    "# Kurulu paketleri bir dosyada tutmak icin\n",
    "pip freeze > requirements.txt\n",
    "\n",
    "# Requirements.txt dosyasini okumak/degistirmek icin\n",
    "nano requirements.txt\n",
    "\n",
    "# Virtual Env De-Aktivasyon\n",
    "deactivate"
   ]
  },
  {
   "cell_type": "markdown",
   "metadata": {},
   "source": [
    "# FLASK Kismi:\n"
   ]
  },
  {
   "cell_type": "code",
   "execution_count": null,
   "metadata": {},
   "outputs": [],
   "source": [
    "from flask import Flask\n",
    "\n",
    "    \n",
    "app = Flask(__name__) #define app using Flask\n",
    "\n",
    "# Start the Flask server\n",
    "if __name__ == \"__main__\":\n",
    "    app.run(port=5000)\n"
   ]
  },
  {
   "cell_type": "code",
   "execution_count": null,
   "metadata": {},
   "outputs": [],
   "source": [
    "from flask import Flask, request\n",
    "\n",
    "    \n",
    "app = Flask(__name__) #define app using Flask\n",
    "@app.route('/ping', methods=['POST'])\n",
    "def ping_machine():\n",
    "    print(request)\n",
    "    username = request.args.get('username')\n",
    "    \n",
    "    return (f\"Merhaba {username}, ben calisiyorum!!!\")\n",
    "    \n",
    "# Start the Flask server\n",
    "if __name__ == \"__main__\":\n",
    "    app.run(port=5000)"
   ]
  },
  {
   "cell_type": "markdown",
   "metadata": {},
   "source": [
    "# Yardimci Bilgi:\n",
    "-- Eger herhangi bir port halihazirda baska bir uygulama tarafindan kullaniliyorsa:\n",
    "-> sudo lsof -i :5000\n",
    "-> sudo kill -9 PID"
   ]
  },
  {
   "cell_type": "markdown",
   "metadata": {},
   "source": [
    "# NGROK Calistirma:"
   ]
  },
  {
   "cell_type": "code",
   "execution_count": null,
   "metadata": {},
   "outputs": [],
   "source": [
    "# Calistirmak icin, Terminal acip:\n",
    "/Users/erolmesutgun/Downloads/ngrok http 5000"
   ]
  },
  {
   "cell_type": "markdown",
   "metadata": {},
   "source": [
    "# TALEP Gönderme Kismi:"
   ]
  },
  {
   "cell_type": "code",
   "execution_count": null,
   "metadata": {},
   "outputs": [],
   "source": [
    "# POSTMAN'den\n",
    "http://127.0.0.1:5000/ping?username=Mesut\n",
    "https://6d26d19f.ngrok.io/ping?username=Mesut\n",
    "        \n",
    "# TERMINAL'den\n",
    "curl -X POST \"http://127.0.0.1:5000/ping?username=Mesut\"\n",
    "curl -X POST \"https://6d26d19f.ngrok.io/ping?username=Mesut\""
   ]
  }
 ],
 "metadata": {
  "kernelspec": {
   "display_name": "Python 3",
   "language": "python",
   "name": "python3"
  },
  "language_info": {
   "codemirror_mode": {
    "name": "ipython",
    "version": 3
   },
   "file_extension": ".py",
   "mimetype": "text/x-python",
   "name": "python",
   "nbconvert_exporter": "python",
   "pygments_lexer": "ipython3",
   "version": "3.6.4"
  }
 },
 "nbformat": 4,
 "nbformat_minor": 2
}
